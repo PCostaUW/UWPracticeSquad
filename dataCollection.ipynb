{
 "cells": [
  {
   "cell_type": "code",
   "execution_count": 1,
   "id": "9a93b446-53cb-4c79-b0dc-6c92c0e0c7fd",
   "metadata": {},
   "outputs": [],
   "source": [
    "import pandas as pd\n",
    "import requests"
   ]
  },
  {
   "cell_type": "code",
   "execution_count": 31,
   "id": "f897940c-c4f5-4231-af7c-3521bac6dd06",
   "metadata": {},
   "outputs": [],
   "source": [
    "league_id = \"1125189236732284928\"\n",
    "url = f\"https://api.sleeper.app/v1/league/{league_id}/drafts\"\n",
    "response = requests.get(url)\n",
    "data = response.json()\n",
    "\n",
    "draft_id = data[0]['draft_id'] #the startup draft\n",
    "picks_url = f\"https://api.sleeper.app/v1/draft/{draft_id}/picks\"\n",
    "picks = requests.get(picks_url).json()\n",
    "\n",
    "entry_draft = pd.DataFrame(picks)\n",
    "metadata_entry_draft = entry_draft['metadata'].apply(pd.Series)\n",
    "entry_draft = pd.concat([entry_draft.drop(columns=['metadata']), metadata_entry_draft], axis=1)\n",
    "entry_draft = entry_draft[['round', 'pick_no', 'roster_id', 'first_name', 'last_name', 'position', 'team']]\n",
    "entry_draft = entry_draft.sort_values(by='pick_no')\n",
    "\n",
    "rosters = requests.get(f\"https://api.sleeper.app/v1/league/{league_id}/rosters\").json()\n",
    "users = requests.get(f\"https://api.sleeper.app/v1/league/{league_id}/users\").json()\n",
    "\n",
    "roster_map = {r['roster_id']: r['owner_id'] for r in rosters}\n",
    "user_map = {u['user_id']: u['display_name'] for u in users}\n",
    "\n",
    "entry_draft['owner_id'] = entry_draft['roster_id'].map(roster_map)\n",
    "entry_draft['owner_name'] = entry_draft['owner_id'].map(user_map)\n",
    "del entry_draft['owner_id']\n",
    "del entry_draft['roster_id']\n",
    "\n",
    "entry_draft.to_csv('entry_draft.csv')"
   ]
  },
  {
   "cell_type": "code",
   "execution_count": 32,
   "id": "dc008d72-53ef-4407-99cf-1ad17dea7d96",
   "metadata": {},
   "outputs": [],
   "source": [
    "league_id = \"1184039966157762560\"\n",
    "url = f\"https://api.sleeper.app/v1/league/{league_id}/drafts\"\n",
    "response = requests.get(url)\n",
    "data = response.json()\n",
    "draft_id = data[0]['draft_id'] #the 2025 rookie draft\n",
    "picks_url = f\"https://api.sleeper.app/v1/draft/{draft_id}/picks\"\n",
    "picks = requests.get(picks_url).json()\n",
    "rookie_draft = pd.DataFrame(picks)\n",
    "metadata_rookie_draft = rookie_draft['metadata'].apply(pd.Series)\n",
    "rookie_draft = pd.concat([rookie_draft.drop(columns=['metadata']), metadata_rookie_draft], axis=1)\n",
    "rookie_draft = rookie_draft[['round', 'pick_no', 'roster_id', 'first_name', 'last_name', 'position', 'team']]\n",
    "rookie_draft = rookie_draft.sort_values(by='pick_no')\n",
    "rosters = requests.get(f\"https://api.sleeper.app/v1/league/{league_id}/rosters\").json()\n",
    "users = requests.get(f\"https://api.sleeper.app/v1/league/{league_id}/users\").json()\n",
    "\n",
    "roster_map = {r['roster_id']: r['owner_id'] for r in rosters}\n",
    "user_map = {u['user_id']: u['display_name'] for u in users}\n",
    "\n",
    "rookie_draft['owner_id'] = rookie_draft['roster_id'].map(roster_map)\n",
    "rookie_draft['owner_name'] = rookie_draft['owner_id'].map(user_map)\n",
    "del rookie_draft['owner_id']\n",
    "del rookie_draft['roster_id']\n",
    "\n",
    "rookie_draft.to_csv('rookie_draft.csv')"
   ]
  },
  {
   "cell_type": "code",
   "execution_count": null,
   "id": "76a5c4ca-8508-4535-8694-154ae712fd63",
   "metadata": {},
   "outputs": [],
   "source": []
  }
 ],
 "metadata": {
  "kernelspec": {
   "display_name": "Python 3 (ipykernel)",
   "language": "python",
   "name": "python3"
  },
  "language_info": {
   "codemirror_mode": {
    "name": "ipython",
    "version": 3
   },
   "file_extension": ".py",
   "mimetype": "text/x-python",
   "name": "python",
   "nbconvert_exporter": "python",
   "pygments_lexer": "ipython3",
   "version": "3.11.2"
  }
 },
 "nbformat": 4,
 "nbformat_minor": 5
}
